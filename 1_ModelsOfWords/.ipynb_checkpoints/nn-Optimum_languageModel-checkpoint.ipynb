{
 "cells": [
  {
   "cell_type": "code",
   "execution_count": 1,
   "metadata": {
    "collapsed": true
   },
   "outputs": [],
   "source": [
    "##---------------------------------------------------------------------\n",
    "## Summary : Implementing optimum version of NN language model\n",
    "## Author  : Srinivas Venkata Vemparala\n",
    "## Source  : https://github.com/neubig/nn4nlp-code\n",
    "##---------------------------------------------------------------------\n",
    "\n",
    "%matplotlib inline\n",
    "import numpy as np\n",
    "import pandas as pd\n",
    "import dynet as dy\n",
    "import time\n",
    "import matplotlib.pyplot as plt\n",
    "\n",
    "import random \n",
    "from collections import defaultdict"
   ]
  },
  {
   "cell_type": "code",
   "execution_count": 2,
   "metadata": {
    "collapsed": true
   },
   "outputs": [],
   "source": [
    "# lets declare the embedding size\n",
    "nEMB = 64\n",
    "nHID = 32\n",
    "\n",
    "# convert the words to integer\n",
    "w2i = defaultdict(lambda: len(w2i))\n",
    "\n",
    "# create the end of sentence and UNK tokens\n",
    "S = w2i['<s>']\n",
    "UNK = w2i['<unk>']\n",
    "\n",
    "# lets declare a method to read the data\n",
    "def readDataset(fileName):\n",
    "    retList = []\n",
    "    with open(fileName,'r+') as file:\n",
    "        for line in file:\n",
    "            words = [w2i[x] for x in line.lower().strip().split(' ')]\n",
    "            retList.append(words)\n",
    "            \n",
    "    return retList"
   ]
  },
  {
   "cell_type": "code",
   "execution_count": 3,
   "metadata": {},
   "outputs": [
    {
     "name": "stdout",
     "output_type": "stream",
     "text": [
      "Number of words in vocabulary :  10001\n",
      "board\n"
     ]
    }
   ],
   "source": [
    "# now lets read the data\n",
    "train = readDataset('../data/ptb/train.txt')\n",
    "test = readDataset('../data/ptb/valid.txt')\n",
    "\n",
    "# compute the number of words in the vocabulary\n",
    "nWords = len(w2i)\n",
    "print('Number of words in vocabulary : ',nWords)\n",
    "\n",
    "# lets freeze the dictionary\n",
    "w2i = defaultdict(lambda:UNK, len(w2i))\n",
    "\n",
    "# lets write a method to convert int to words\n",
    "i2w = {v:k for k,v in w2i.items()}\n",
    "# test the method\n",
    "print(i2w[34])"
   ]
  },
  {
   "cell_type": "code",
   "execution_count": 4,
   "metadata": {
    "collapsed": true
   },
   "outputs": [],
   "source": [
    "# lets declare N in N-Grams\n",
    "N = 2\n",
    "\n",
    "# lets declate the model and trainers\n",
    "model = dy.Model()\n",
    "trainer = dy.AdamTrainer(model,alpha=0.01)\n",
    "\n",
    "# lets add parameters to the model\n",
    "W_emb = model.add_lookup_parameters((nWords,nEMB)) #embeddings for each word.\n",
    "W_h = model.add_parameters((nHID,nEMB*N)) #weights hidden layer\n",
    "b_h = model.add_parameters((nHID)) #biases hidden layer\n",
    "W_sm = model.add_parameters((nWords,nHID)) #weights for the the softmax layer\n",
    "b_sm = model.add_parameters((nWords)) #biases for the softmax layer\n"
   ]
  },
  {
   "cell_type": "code",
   "execution_count": 5,
   "metadata": {
    "collapsed": true
   },
   "outputs": [],
   "source": [
    "# lets write a method to compute the scores given the words\n",
    "# we will use drop out also here\n",
    "def computeScores(words, dropout = 0.0):\n",
    "    weightsSoftMax = dy.parameter(W_sm)\n",
    "    biasesSoftMax = dy.parameter(b_sm)\n",
    "    weightsHidden = dy.parameter(W_h)\n",
    "    biasesHidden = dy.parameter(b_h)\n",
    "    \n",
    "    embeddings = dy.concatenate([dy.lookup(W_emb,x) for x in words])\n",
    "    hiddenOutput = dy.tanh(dy.affine_transform([biasesHidden, weightsHidden, embeddings]))\n",
    "    \n",
    "    # perform the dropout.\n",
    "    if(dropout != 0.0):\n",
    "        hiddenOutput = dy.dropout(hiddenOutput,dropout)\n",
    "    \n",
    "    softMaxOutput = dy.affine_transform([biasesSoftMax, weightsSoftMax, hiddenOutput])\n",
    "    return softMaxOutput\n",
    "\n",
    "# method to compute loss for a sentence\n",
    "def computeLoss(sent,dropout=0.0):\n",
    "    # renew the computation graph\n",
    "    dy.renew_cg()\n",
    "    \n",
    "    # we will maintain the history of last N words. Initially they will be end of sentences\n",
    "    hist = [S] * N\n",
    "    \n",
    "    all_losses = []\n",
    "    \n",
    "    # add the end of sentence to the words and iterate it.\n",
    "    for next_word in sent+[S]:\n",
    "        loss = dy.pickneglogsoftmax(computeScores(hist,dropout=dropout),next_word)\n",
    "        all_losses.append(loss)\n",
    "        \n",
    "        # remove the 1st word and add new word\n",
    "        hist = hist[1:]+[next_word]\n",
    "    return dy.esum(all_losses)"
   ]
  },
  {
   "cell_type": "code",
   "execution_count": 11,
   "metadata": {
    "collapsed": true
   },
   "outputs": [],
   "source": [
    "# lets declare the maximum limit on the sentence size\n",
    "MAX_SENT_SIZE = 100\n",
    "\n",
    "# lets write a method to randomly generate new sentences.\n",
    "def generateNewSentences():\n",
    "    # renew the computation graph\n",
    "    dy.renew_cg()\n",
    "    \n",
    "    # initialize the history to N end of sentence characters.\n",
    "    hist = [S]*N\n",
    "    \n",
    "    # initialize the sentence to empty list and start \n",
    "    Sentence = []\n",
    "    while(True):\n",
    "        prob = dy.softmax(computeScores(hist)).npvalue()\n",
    "        nextWord = np.random.choice(nWords,p=(prob/prob.sum()))\n",
    "        \n",
    "        # add word to sentence\n",
    "        Sentence.append(nextWord)\n",
    "        \n",
    "        if(nextWord == S or len(Sentence)>=MAX_SENT_SIZE):\n",
    "            break\n",
    "        \n",
    "        hist = hist[1:]+[nextWord]\n",
    "        \n",
    "    return Sentence"
   ]
  },
  {
   "cell_type": "code",
   "execution_count": 7,
   "metadata": {},
   "outputs": [
    {
     "name": "stdout",
     "output_type": "stream",
     "text": [
      " Starting the training ...\n",
      "Iteration  0  :   TrainingLoss :  5647806.609324217  Number of words processed :  887521  Time taken :  524.3037548065186\n",
      "Iteration  0  :   TestLoss :  433327.2264814377\n",
      "Iteration  1  :   TrainingLoss :  5449927.6554374695  Number of words processed :  887521  Time taken :  516.8826627731323\n",
      "Iteration  1  :   TestLoss :  428663.8609275818\n",
      "Iteration  2  :   TrainingLoss :  5394966.908216  Number of words processed :  887521  Time taken :  517.6571242809296\n",
      "Iteration  2  :   TestLoss :  428030.9739370346\n",
      "Iteration  3  :   TrainingLoss :  5360847.003957748  Number of words processed :  887521  Time taken :  510.9050841331482\n",
      "Iteration  3  :   TestLoss :  426519.03841400146\n",
      "Iteration  4  :   TrainingLoss :  5336353.884473324  Number of words processed :  887521  Time taken :  1012.5548911094666\n",
      "Iteration  4  :   TestLoss :  427024.26500558853\n",
      "Iteration  5  :   TrainingLoss :  5092595.986534119  Number of words processed :  887521  Time taken :  1194.8160116672516\n",
      "Iteration  5  :   TestLoss :  410869.26510190964\n",
      "Iteration  6  :   TrainingLoss :  5059429.631608963  Number of words processed :  887521  Time taken :  1199.8026821613312\n",
      "Iteration  6  :   TestLoss :  410351.4037618637\n",
      "Iteration  7  :   TrainingLoss :  5042397.355010986  Number of words processed :  887521  Time taken :  1148.3615787029266\n",
      "Iteration  7  :   TestLoss :  409552.61050987244\n",
      "Iteration  8  :   TrainingLoss :  5025419.657827854  Number of words processed :  887521  Time taken :  592.566220998764\n",
      "Iteration  8  :   TestLoss :  408989.97421455383\n",
      "Iteration  9  :   TrainingLoss :  5012869.389321327  Number of words processed :  887521  Time taken :  583.3701930046082\n",
      "Iteration  9  :   TestLoss :  408030.61626148224\n"
     ]
    }
   ],
   "source": [
    "# lets start the training process\n",
    "trainLosses = []\n",
    "testLosses = []\n",
    "\n",
    "bestTestLoss = 999999999\n",
    "lastTestLoss = 999999999\n",
    "\n",
    "print(' Starting the training ...')\n",
    "\n",
    "for i in range(10):\n",
    "    # randomly shuffle the training examples\n",
    "    random.shuffle(train)\n",
    "    \n",
    "    # note start time and initialize the training loss and num of words processed\n",
    "    startTime = time.time()\n",
    "    trainLoss = 0.0\n",
    "    numOfWordsProcessed = 0\n",
    "    for sent in train:\n",
    "        # compute the loss\n",
    "        loss = computeLoss(sent,dropout=0.2)\n",
    "        trainLoss = trainLoss+loss.value()\n",
    "        numOfWordsProcessed = numOfWordsProcessed + len(sent)\n",
    "        \n",
    "        # compute the gradient and update the parameters\n",
    "        loss.backward()\n",
    "        trainer.update()\n",
    "    trainLosses.append(trainLoss)\n",
    "    print('Iteration ',i,' : ',' TrainingLoss : ',trainLoss,' Number of words processed : ',numOfWordsProcessed,' Time taken : ',\n",
    "         (time.time()-startTime))\n",
    "    \n",
    "    # evaluate on test data\n",
    "    testLoss = 0.0\n",
    "    for sent in test:\n",
    "        # compute loss\n",
    "        loss = computeLoss(sent)\n",
    "        testLoss = testLoss + loss.value()\n",
    "    testLosses.append(testLoss)\n",
    "    print('Iteration ',i,' : ',' TestLoss : ',testLoss)\n",
    "    \n",
    "    # check if current test loss is less than that of the previous testLoss if not reduce the learning rate by half\n",
    "    if(lastTestLoss<=testLoss):\n",
    "        trainer.learning_rate = trainer.learning_rate/2\n",
    "        \n",
    "    lastTestLoss = testLoss\n",
    "    \n",
    "    # check if current test loss is the best we have seen if so save the model\n",
    "    # disabling saving to save time\n",
    "    '''if(testLoss<bestTestLoss):\n",
    "        model.save(\"nn-optimum_LM.txt\")\n",
    "        bestTestLoss = testLoss'''\n",
    "    "
   ]
  },
  {
   "cell_type": "code",
   "execution_count": 8,
   "metadata": {},
   "outputs": [
    {
     "data": {
      "image/png": "[encoded data removed]",
      "text/plain": [
       "<matplotlib.figure.Figure at 0x250e6e1bfd0>"
      ]
     },
     "metadata": {},
     "output_type": "display_data"
    }
   ],
   "source": [
    "# normalize the training loss and test loss by dividing with initial element\n",
    "trainLoss0 = trainLosses[0]\n",
    "trainLosses = [(x/trainLoss0) for x in trainLosses]\n",
    "    \n",
    "testLoss0 = testLosses[0]\n",
    "testLosses = [(x/testLoss0) for x in testLosses]\n",
    "    \n",
    "train_loss, = plt.plot(trainLosses,label='train_loss')\n",
    "test_loss, = plt.plot(testLosses,label='test_loss')\n",
    "plt.legend(handles=[train_loss,test_loss])\n",
    "plt.show()"
   ]
  },
  {
   "cell_type": "code",
   "execution_count": 16,
   "metadata": {},
   "outputs": [
    {
     "name": "stdout",
     "output_type": "stream",
     "text": [
      "recession copper and the real estate for employees <s>\n",
      "though he noble a japanese who would remain too soon will south rated industry the new corp. agreed to make either new <unk> of <unk> corn refinery <unk> <unk> said <s>\n",
      "but raise it 's like building brown is <unk> <s>\n",
      "earnings for american communications corp. to meet flying scope as you to n n <s>\n",
      "a earn surge in ibm <s>\n"
     ]
    }
   ],
   "source": [
    "# lets generate some random sentences\n",
    "for i in range(5):\n",
    "    sent = generateNewSentences()\n",
    "    words = [i2w[x] for x in sent]\n",
    "    print(' '.join(words))"
   ]
  },
  {
   "cell_type": "code",
   "execution_count": null,
   "metadata": {
    "collapsed": true
   },
   "outputs": [],
   "source": []
  }
 ],
 "metadata": {
  "kernelspec": {
   "display_name": "Python 3",
   "language": "python",
   "name": "python3"
  },
  "language_info": {
   "codemirror_mode": {
    "name": "ipython",
    "version": 3
   },
   "file_extension": ".py",
   "mimetype": "text/x-python",
   "name": "python",
   "nbconvert_exporter": "python",
   "pygments_lexer": "ipython3",
   "version": "3.6.1"
  }
 },
 "nbformat": 4,
 "nbformat_minor": 2
}
