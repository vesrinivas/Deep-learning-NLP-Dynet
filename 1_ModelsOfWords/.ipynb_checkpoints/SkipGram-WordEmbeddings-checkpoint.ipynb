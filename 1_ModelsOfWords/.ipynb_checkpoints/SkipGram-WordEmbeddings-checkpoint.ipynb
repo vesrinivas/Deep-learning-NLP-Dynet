{
 "cells": [
  {
   "cell_type": "code",
   "execution_count": 1,
   "metadata": {
    "collapsed": true
   },
   "outputs": [],
   "source": [
    "##---------------------------------------------------------------------\n",
    "## Summary : Implementing the Skip-Gram model for generating WordEMB\n",
    "## Author  : Srinivas Venkata Vemparala\n",
    "## Source  : https://github.com/neubig/nn4nlp-code\n",
    "##---------------------------------------------------------------------\n",
    "\n",
    "%matplotlib inline\n",
    "import numpy as np\n",
    "import pandas as pd\n",
    "import dynet as dy\n",
    "import time \n",
    "import matplotlib.pyplot as plt\n",
    "import random\n",
    "from collections import defaultdict\n"
   ]
  },
  {
   "cell_type": "code",
   "execution_count": 2,
   "metadata": {
    "collapsed": true
   },
   "outputs": [],
   "source": [
    "# lets write a method to convert words to int\n",
    "w2i = defaultdict(lambda:len(w2i))\n",
    "\n",
    "S = w2i['<s>']\n",
    "UNK = w2i['<unk>']\n",
    "\n",
    "# lets write a method to read the data\n",
    "def readDataset(fileName):\n",
    "    retList = []\n",
    "    with open(fileName,'r+') as f:\n",
    "        for line in f:\n",
    "            words = [w2i[x] for x in line.lower().strip().split(' ')]\n",
    "            retList.append(words)\n",
    "    return retList"
   ]
  },
  {
   "cell_type": "code",
   "execution_count": 3,
   "metadata": {},
   "outputs": [
    {
     "name": "stdout",
     "output_type": "stream",
     "text": [
      "board\n",
      "Vocabulary Size :  10000\n"
     ]
    }
   ],
   "source": [
    "# lets read the training and testing data. We are using the pen-tree-bank.\n",
    "# In this the rare words are already replaced by <UNK>\n",
    "\n",
    "train = readDataset('../data/ptb/train.txt')\n",
    "test = readDataset('../data/ptb/valid.txt')\n",
    "\n",
    "# lets freeze the dictionary\n",
    "w2i = defaultdict(lambda:UNK, len(w2i))\n",
    "\n",
    "# Now lets write a method to convert the indexes to words.\n",
    "i2w = {v: k for k, v in w2i.items()}\n",
    "# lets try an example\n",
    "print(i2w[33])\n",
    "\n",
    "nWords = len(w2i)\n",
    "print('Vocabulary Size : ',nWords)"
   ]
  },
  {
   "cell_type": "code",
   "execution_count": 4,
   "metadata": {
    "collapsed": true
   },
   "outputs": [],
   "source": [
    "# lets define the N in N-gram and length of each embedding\n",
    "N = 2 # this means previous 2 words and next 2 words denote the context\n",
    "nEMB = 64\n",
    "\n",
    "# lets define the model and trainer\n",
    "model = dy.Model()\n",
    "trainer  = dy.SimpleSGDTrainer(model,learning_rate=0.1)\n",
    "\n",
    "# lets add parameters to the model\n",
    "W_emb = model.add_lookup_parameters((nWords,nEMB)) # embedding vectors\n",
    "W_sm = model.add_parameters((nWords,nEMB))"
   ]
  },
  {
   "cell_type": "code",
   "execution_count": 5,
   "metadata": {
    "collapsed": true
   },
   "outputs": [],
   "source": [
    "# lets write a method to compute loss \n",
    "def computeLoss(sent):\n",
    "    # lets renew computation graph\n",
    "    dy.renew_cg()\n",
    "    \n",
    "    all_losses = []\n",
    "    \n",
    "    # get the embeddings for each word in sentence\n",
    "    embList = [W_emb[x] for x in sent]   \n",
    "    \n",
    "    # get W_sm to computation graph\n",
    "    weightsSoftMax = dy.parameter(W_sm)\n",
    "      \n",
    "    # iterate through each word in the sentence and compute the loss\n",
    "    for i,embed in enumerate(embList):\n",
    "        scores = dy.log_softmax(weightsSoftMax*embed)\n",
    "        for j in range(1,N+1):\n",
    "            all_losses.append(-1*dy.pick(scores, sent[i-j] if i-j >= 0 else S))\n",
    "            all_losses.append(-1*dy.pick(scores, sent[i+j] if i+j < len(sent) else S)) \n",
    "\n",
    "    return dy.esum(all_losses)"
   ]
  },
  {
   "cell_type": "code",
   "execution_count": 6,
   "metadata": {
    "scrolled": true
   },
   "outputs": [
    {
     "name": "stdout",
     "output_type": "stream",
     "text": [
      "Started training ....\n",
      "Iteration  0  :   TrainingLoss :  25.628730324618804  Number of words processed :  887521  Time taken :  1049.2291421890259\n",
      "Iteration  0  :   TestLoss :  1.9490424837455211\n",
      "Iteration  1  :   TrainingLoss :  24.329137292105695  Number of words processed :  887521  Time taken :  1003.8135523796082\n",
      "Iteration  1  :   TestLoss :  1.9286459315635112\n",
      "Iteration  2  :   TrainingLoss :  24.037371530024913  Number of words processed :  887521  Time taken :  908.9124619960785\n",
      "Iteration  2  :   TestLoss :  1.9159313928059334\n",
      "Iteration  3  :   TrainingLoss :  23.855281858362947  Number of words processed :  887521  Time taken :  849.6308643817902\n",
      "Iteration  3  :   TestLoss :  1.9146272804340638\n",
      "Iteration  4  :   TrainingLoss :  23.722908319807885  Number of words processed :  887521  Time taken :  850.2638850212097\n",
      "Iteration  4  :   TestLoss :  1.910843063763143\n",
      "Iteration  5  :   TrainingLoss :  23.62019870648875  Number of words processed :  887521  Time taken :  846.584527015686\n",
      "Iteration  5  :   TestLoss :  1.9075351124472826\n",
      "Iteration  6  :   TrainingLoss :  23.538235455106932  Number of words processed :  887521  Time taken :  845.6226396560669\n",
      "Iteration  6  :   TestLoss :  1.90656338258371\n",
      "Iteration  7  :   TrainingLoss :  23.467618522278958  Number of words processed :  887521  Time taken :  844.7468106746674\n",
      "Iteration  7  :   TestLoss :  1.9065882859554137\n",
      "Iteration  8  :   TrainingLoss :  23.40893514845273  Number of words processed :  887521  Time taken :  844.6058232784271\n",
      "Iteration  8  :   TestLoss :  1.9069286004006336\n",
      "Iteration  9  :   TrainingLoss :  23.358756352107825  Number of words processed :  887521  Time taken :  843.1743860244751\n",
      "Iteration  9  :   TestLoss :  1.9066730485904633\n",
      "Iteration  10  :   TrainingLoss :  23.313526928786082  Number of words processed :  887521  Time taken :  842.1647865772247\n",
      "Iteration  10  :   TestLoss :  1.9088299853391784\n",
      "Iteration  11  :   TrainingLoss :  23.275964400780264  Number of words processed :  887521  Time taken :  846.0220050811768\n",
      "Iteration  11  :   TestLoss :  1.9067482462972385\n",
      "Iteration  12  :   TrainingLoss :  23.23909046110244  Number of words processed :  887521  Time taken :  854.6122379302979\n",
      "Iteration  12  :   TestLoss :  1.9053263440672026\n",
      "Iteration  13  :   TrainingLoss :  23.208489305308685  Number of words processed :  887521  Time taken :  846.7167267799377\n",
      "Iteration  13  :   TestLoss :  1.9073032849943814\n",
      "Iteration  14  :   TrainingLoss :  23.179589117420242  Number of words processed :  887521  Time taken :  852.3207800388336\n",
      "Iteration  14  :   TestLoss :  1.9102563385955806\n",
      "Iteration  15  :   TrainingLoss :  23.153742286528566  Number of words processed :  887521  Time taken :  877.7538797855377\n",
      "Iteration  15  :   TestLoss :  1.908330416764835\n",
      "Iteration  16  :   TrainingLoss :  23.12967680643138  Number of words processed :  887521  Time taken :  846.7660863399506\n",
      "Iteration  16  :   TestLoss :  1.910695196488444\n",
      "Iteration  17  :   TrainingLoss :  23.10722621866293  Number of words processed :  887521  Time taken :  847.6515140533447\n",
      "Iteration  17  :   TestLoss :  1.9120582905297991\n",
      "Iteration  18  :   TrainingLoss :  23.087804110909097  Number of words processed :  887521  Time taken :  847.3921012878418\n",
      "Iteration  18  :   TestLoss :  1.913827873572225\n",
      "Iteration  19  :   TrainingLoss :  23.069378408125534  Number of words processed :  887521  Time taken :  849.5719482898712\n",
      "Iteration  19  :   TestLoss :  1.9133337938487947\n",
      "Iteration  20  :   TrainingLoss :  23.05256008867914  Number of words processed :  887521  Time taken :  845.4265909194946\n",
      "Iteration  20  :   TestLoss :  1.916763874668036\n",
      "Iteration  21  :   TrainingLoss :  23.036852469726433  Number of words processed :  887521  Time taken :  846.9656603336334\n",
      "Iteration  21  :   TestLoss :  1.915292593382957\n",
      "Iteration  22  :   TrainingLoss :  23.022662764800966  Number of words processed :  887521  Time taken :  842.9178881645203\n",
      "Iteration  22  :   TestLoss :  1.91625537106019\n",
      "Iteration  23  :   TrainingLoss :  23.00665098144182  Number of words processed :  887521  Time taken :  841.9943268299103\n",
      "Iteration  23  :   TestLoss :  1.9266324632351328\n",
      "Iteration  24  :   TrainingLoss :  22.993998297243866  Number of words processed :  887521  Time taken :  846.6621999740601\n",
      "Iteration  24  :   TestLoss :  1.9189492399484525\n",
      "Iteration  25  :   TrainingLoss :  22.98248060686538  Number of words processed :  887521  Time taken :  848.2246763706207\n",
      "Iteration  25  :   TestLoss :  1.9194518147511783\n",
      "Iteration  26  :   TrainingLoss :  22.97109682388275  Number of words processed :  887521  Time taken :  843.9088885784149\n",
      "Iteration  26  :   TestLoss :  1.9224762223106997\n",
      "Iteration  27  :   TrainingLoss :  22.959527591587463  Number of words processed :  887521  Time taken :  843.8206589221954\n",
      "Iteration  27  :   TestLoss :  1.9229085110838842\n",
      "Iteration  28  :   TrainingLoss :  22.948786409410484  Number of words processed :  887521  Time taken :  844.9586510658264\n",
      "Iteration  28  :   TestLoss :  1.922931704923878\n",
      "Iteration  29  :   TrainingLoss :  22.93890958731611  Number of words processed :  887521  Time taken :  843.7910175323486\n",
      "Iteration  29  :   TestLoss :  1.9245281405312882\n"
     ]
    }
   ],
   "source": [
    "# lets start the training and computing the embedding\n",
    "trainLosses = []\n",
    "testLosses = []\n",
    "\n",
    "print('Started training ....')\n",
    "\n",
    "for i in range(30):\n",
    "    # randomly shuffle the training examples\n",
    "    random.shuffle(train)\n",
    "    \n",
    "    trainLoss = 0.0\n",
    "    startTime = time.time()\n",
    "    numOfWordsProcessed = 0\n",
    "    \n",
    "    for sent in train:\n",
    "        loss = computeLoss(sent)\n",
    "        trainLoss = trainLoss+loss.value()\n",
    "        \n",
    "        numOfWordsProcessed = numOfWordsProcessed + len(sent)\n",
    "        \n",
    "        # do backward pass to compute the gradients and update parameters\n",
    "        loss.backward()\n",
    "        trainer.update()\n",
    "    trainLosses.append(trainLoss)\n",
    "    print('Iteration ',i,' : ',' TrainingLoss : ',(trainLoss/numOfWordsProcessed),' Number of words processed : ',numOfWordsProcessed,' Time taken : ',\n",
    "         (time.time()-startTime))\n",
    "    \n",
    "    testLoss = 0.0\n",
    "    for sent in test:\n",
    "        loss = computeLoss(sent)\n",
    "        testLoss = testLoss+loss.value()\n",
    "    testLosses.append(testLoss)\n",
    "    print('Iteration ',i,' : ',' TestLoss : ',(testLoss/numOfWordsProcessed))"
   ]
  },
  {
   "cell_type": "code",
   "execution_count": 7,
   "metadata": {},
   "outputs": [
    {
     "data": {
      "image/png": "[encoded data removed]",
      "text/plain": [
       "<matplotlib.figure.Figure at 0x20d49dc53c8>"
      ]
     },
     "metadata": {},
     "output_type": "display_data"
    }
   ],
   "source": [
    "# normalize the training loss and test loss by dividing with initial element\n",
    "trainLoss0 = trainLosses[0]\n",
    "trainLosses = [(x/trainLoss0) for x in trainLosses]\n",
    "    \n",
    "testLoss0 = testLosses[0]\n",
    "testLosses = [(x/testLoss0) for x in testLosses]\n",
    "    \n",
    "train_loss, = plt.plot(trainLosses,label='train_loss')\n",
    "test_loss, = plt.plot(testLosses,label='test_loss')\n",
    "plt.legend(handles=[train_loss,test_loss])\n",
    "plt.show()"
   ]
  },
  {
   "cell_type": "code",
   "execution_count": 8,
   "metadata": {
    "collapsed": true
   },
   "outputs": [],
   "source": [
    "# lets write the input and output embeddings to file\n",
    "inputEmbeddings = 'inputEmbeddingsSkipGram.txt'\n",
    "outputEmbeddings = 'outputEmbeddingsSkipGram.txt'\n",
    "labels = 'labelsSkipGram.txt'\n",
    "\n",
    "with open(inputEmbeddings,'w') as f:\n",
    "    embeddings = W_emb.as_array()\n",
    "    for i in range(nWords):\n",
    "        f.write('\\t'.join(map(str,embeddings[i])) + '\\n')\n",
    "\n",
    "with open(outputEmbeddings,'w') as f:\n",
    "    embeddings = W_sm.as_array()\n",
    "    for i in range(nWords):\n",
    "        f.write('\\t'.join(map(str,embeddings[i])) + '\\n')\n",
    "        \n",
    "with open(labels,'w') as f:\n",
    "    for i in range(nWords):\n",
    "        f.write(i2w[i] + '\\n')    "
   ]
  }
 ],
 "metadata": {
  "kernelspec": {
   "display_name": "Python 3",
   "language": "python",
   "name": "python3"
  },
  "language_info": {
   "codemirror_mode": {
    "name": "ipython",
    "version": 3
   },
   "file_extension": ".py",
   "mimetype": "text/x-python",
   "name": "python",
   "nbconvert_exporter": "python",
   "pygments_lexer": "ipython3",
   "version": "3.6.1"
  }
 },
 "nbformat": 4,
 "nbformat_minor": 2
}
