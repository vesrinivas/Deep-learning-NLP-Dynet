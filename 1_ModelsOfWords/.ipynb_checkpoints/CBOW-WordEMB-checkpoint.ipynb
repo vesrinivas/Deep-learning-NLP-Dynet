{
 "cells": [
  {
   "cell_type": "code",
   "execution_count": 1,
   "metadata": {
    "collapsed": true
   },
   "outputs": [],
   "source": [
    "##---------------------------------------------------------------------\n",
    "## Summary : Implementing the CBOW model for generating WordEMB\n",
    "## Author  : Srinivas Venkata Vemparala\n",
    "## Source  : https://github.com/neubig/nn4nlp-code\n",
    "##---------------------------------------------------------------------\n",
    "\n",
    "%matplotlib inline\n",
    "import numpy as np\n",
    "import pandas as pd\n",
    "import dynet as dy\n",
    "import time \n",
    "import matplotlib.pyplot as plt\n",
    "import random\n",
    "from collections import defaultdict\n"
   ]
  },
  {
   "cell_type": "code",
   "execution_count": 2,
   "metadata": {
    "collapsed": true
   },
   "outputs": [],
   "source": [
    "# lets write a method to convert words to int\n",
    "w2i = defaultdict(lambda:len(w2i))\n",
    "\n",
    "S = w2i['<s>']\n",
    "UNK = w2i['<unk>']\n",
    "\n",
    "# lets write a method to read the data\n",
    "def readDataset(fileName):\n",
    "    retList = []\n",
    "    with open(fileName,'r+') as f:\n",
    "        for line in f:\n",
    "            words = [w2i[x] for x in line.lower().strip().split(' ')]\n",
    "            retList.append(words)\n",
    "    return retList"
   ]
  },
  {
   "cell_type": "code",
   "execution_count": 3,
   "metadata": {},
   "outputs": [
    {
     "name": "stdout",
     "output_type": "stream",
     "text": [
      "board\n",
      "Vocabulary Size :  10000\n"
     ]
    }
   ],
   "source": [
    "# lets read the training and testing data. We are using the pen-tree-bank.\n",
    "# In this the rare words are already replaced by <UNK>\n",
    "\n",
    "train = readDataset('../data/ptb/train.txt')\n",
    "test = readDataset('../data/ptb/valid.txt')\n",
    "\n",
    "# lets freeze the dictionary\n",
    "w2i = defaultdict(lambda:UNK, len(w2i))\n",
    "\n",
    "# Now lets write a method to convert the indexes to words.\n",
    "i2w = {v: k for k, v in w2i.items()}\n",
    "# lets try an example\n",
    "print(i2w[33])\n",
    "\n",
    "nWords = len(w2i)\n",
    "print('Vocabulary Size : ',nWords)\n"
   ]
  },
  {
   "cell_type": "code",
   "execution_count": 4,
   "metadata": {
    "collapsed": true
   },
   "outputs": [],
   "source": [
    "# lets define the N in N-gram and length of each embedding\n",
    "N = 2 # this means previous 2 words and next 2 words denote the context\n",
    "nEMB = 64\n",
    "\n",
    "# lets define the model and trainer\n",
    "model = dy.Model()\n",
    "trainer  = dy.SimpleSGDTrainer(model,learning_rate=0.1)\n",
    "\n",
    "# lets add parameters to the model\n",
    "W_emb = model.add_lookup_parameters((nWords,nEMB)) # embedding vectors\n",
    "W_sm = model.add_parameters((nWords,nEMB))\n"
   ]
  },
  {
   "cell_type": "code",
   "execution_count": 5,
   "metadata": {
    "collapsed": true
   },
   "outputs": [],
   "source": [
    "# lets write a method to compute loss \n",
    "def computeLoss(sent):\n",
    "    # lets renew computation graph\n",
    "    dy.renew_cg()\n",
    "    \n",
    "    all_losses = []\n",
    "    paddedSent = [S]*N+sent+[S]*N\n",
    "    \n",
    "    # get the padded embedding\n",
    "    paddedEmb = [W_emb[x] for x in paddedSent]\n",
    "    \n",
    "    # get W_sm to computation graph\n",
    "    weightsSoftMax = dy.parameter(W_sm)\n",
    "    \n",
    "    # iterate through each word in the sentence and compute the loss\n",
    "    for i in range(N,len(sent)+N):\n",
    "        # sum the embeddings for N words before i and N words after i\n",
    "        sumEmb = dy.esum(paddedEmb[i-N:i] + paddedEmb[i+1:i+N+1])\n",
    "        # compute the scores\n",
    "        scores = weightsSoftMax*sumEmb\n",
    "        # compute the loss\n",
    "        loss = dy.pickneglogsoftmax(scores,paddedSent[i])\n",
    "        all_losses.append(loss)\n",
    "    \n",
    "    return dy.esum(all_losses)"
   ]
  },
  {
   "cell_type": "code",
   "execution_count": 6,
   "metadata": {},
   "outputs": [
    {
     "name": "stdout",
     "output_type": "stream",
     "text": [
      "Started training ....\n",
      "Iteration  0  :   TrainingLoss :  5.894781162973745  Number of words processed :  887521  Time taken :  1299.8055865764618\n",
      "Iteration  0  :   TestLoss :  0.4379965335660942\n",
      "Iteration  1  :   TrainingLoss :  5.308364338607424  Number of words processed :  887521  Time taken :  1294.6506044864655\n",
      "Iteration  1  :   TestLoss :  0.42484588273048624\n",
      "Iteration  2  :   TrainingLoss :  5.0828419450608555  Number of words processed :  887521  Time taken :  1278.198312997818\n",
      "Iteration  2  :   TestLoss :  0.4206811144283186\n",
      "Iteration  3  :   TrainingLoss :  4.937331650600777  Number of words processed :  887521  Time taken :  1254.5328567028046\n",
      "Iteration  3  :   TestLoss :  0.4182854400489213\n",
      "Iteration  4  :   TrainingLoss :  4.83023621011863  Number of words processed :  887521  Time taken :  1236.4270238876343\n",
      "Iteration  4  :   TestLoss :  0.4150190267178064\n",
      "Iteration  5  :   TrainingLoss :  4.74724897176813  Number of words processed :  887521  Time taken :  1242.392147064209\n",
      "Iteration  5  :   TestLoss :  0.4162839631939388\n",
      "Iteration  6  :   TrainingLoss :  4.67929237227131  Number of words processed :  887521  Time taken :  1260.5484697818756\n",
      "Iteration  6  :   TestLoss :  0.4169836265386804\n",
      "Iteration  7  :   TrainingLoss :  4.623147026962113  Number of words processed :  887521  Time taken :  1246.157526731491\n",
      "Iteration  7  :   TestLoss :  0.4159663690348032\n",
      "Iteration  8  :   TrainingLoss :  4.574403152320156  Number of words processed :  887521  Time taken :  1244.784679889679\n",
      "Iteration  8  :   TestLoss :  0.4175291319284919\n",
      "Iteration  9  :   TrainingLoss :  4.53256448448388  Number of words processed :  887521  Time taken :  1238.15270113945\n",
      "Iteration  9  :   TestLoss :  0.4192389397895694\n",
      "Iteration  10  :   TrainingLoss :  4.496341618823634  Number of words processed :  887521  Time taken :  1243.2990036010742\n",
      "Iteration  10  :   TestLoss :  0.42156275756149125\n",
      "Iteration  11  :   TrainingLoss :  4.463535132707815  Number of words processed :  887521  Time taken :  1300.2420423030853\n",
      "Iteration  11  :   TestLoss :  0.42014585926146714\n",
      "Iteration  12  :   TrainingLoss :  4.434314504117751  Number of words processed :  887521  Time taken :  1293.1778044700623\n",
      "Iteration  12  :   TestLoss :  0.42138564259241357\n",
      "Iteration  13  :   TrainingLoss :  4.408405579556673  Number of words processed :  887521  Time taken :  1276.758469581604\n",
      "Iteration  13  :   TestLoss :  0.42070795642950726\n",
      "Iteration  14  :   TrainingLoss :  4.384993567042493  Number of words processed :  887521  Time taken :  1250.972131729126\n",
      "Iteration  14  :   TestLoss :  0.42273670453427103\n",
      "Iteration  15  :   TrainingLoss :  4.363759808345418  Number of words processed :  887521  Time taken :  1292.340769290924\n",
      "Iteration  15  :   TestLoss :  0.4258170129706111\n",
      "Iteration  16  :   TrainingLoss :  4.343972469492845  Number of words processed :  887521  Time taken :  1259.316436290741\n",
      "Iteration  16  :   TestLoss :  0.42500121657724604\n",
      "Iteration  17  :   TrainingLoss :  4.325483821439077  Number of words processed :  887521  Time taken :  1243.8464543819427\n",
      "Iteration  17  :   TestLoss :  0.42594841386073556\n",
      "Iteration  18  :   TrainingLoss :  4.309132179344859  Number of words processed :  887521  Time taken :  1271.4599735736847\n",
      "Iteration  18  :   TestLoss :  0.4255151712364733\n",
      "Iteration  19  :   TrainingLoss :  4.293720520201076  Number of words processed :  887521  Time taken :  1251.7179713249207\n",
      "Iteration  19  :   TestLoss :  0.4260898111213947\n",
      "Iteration  20  :   TrainingLoss :  4.280054782786085  Number of words processed :  887521  Time taken :  2389.169023990631\n",
      "Iteration  20  :   TestLoss :  0.429265407704112\n",
      "Iteration  21  :   TrainingLoss :  4.266484846944769  Number of words processed :  887521  Time taken :  1261.7161483764648\n",
      "Iteration  21  :   TestLoss :  0.4298682333392662\n",
      "Iteration  22  :   TrainingLoss :  4.253982130839492  Number of words processed :  887521  Time taken :  1258.6039583683014\n",
      "Iteration  22  :   TestLoss :  0.4307680914239729\n",
      "Iteration  23  :   TrainingLoss :  4.243485718497804  Number of words processed :  887521  Time taken :  1273.4062650203705\n",
      "Iteration  23  :   TestLoss :  0.43160918643336793\n",
      "Iteration  24  :   TrainingLoss :  4.231946852151627  Number of words processed :  887521  Time taken :  1273.8938353061676\n",
      "Iteration  24  :   TestLoss :  0.43314787297343393\n",
      "Iteration  25  :   TrainingLoss :  4.2218224229059915  Number of words processed :  887521  Time taken :  1284.0006313323975\n",
      "Iteration  25  :   TestLoss :  0.4329118138861844\n",
      "Iteration  26  :   TrainingLoss :  4.212902258261382  Number of words processed :  887521  Time taken :  1328.256582736969\n",
      "Iteration  26  :   TestLoss :  0.43355311698563576\n",
      "Iteration  27  :   TrainingLoss :  4.204324844885061  Number of words processed :  887521  Time taken :  1304.0898787975311\n",
      "Iteration  27  :   TestLoss :  0.4358831944878942\n",
      "Iteration  28  :   TrainingLoss :  4.195788701620499  Number of words processed :  887521  Time taken :  1345.3386011123657\n",
      "Iteration  28  :   TestLoss :  0.4349372654032767\n",
      "Iteration  29  :   TrainingLoss :  4.187455898770199  Number of words processed :  887521  Time taken :  1564.3339879512787\n",
      "Iteration  29  :   TestLoss :  0.4361520416675319\n"
     ]
    }
   ],
   "source": [
    "# lets start the training and computing the embedding\n",
    "trainLosses = []\n",
    "testLosses = []\n",
    "\n",
    "print('Started training ....')\n",
    "\n",
    "for i in range(30):\n",
    "    # randomly shuffle the training examples\n",
    "    random.shuffle(train)\n",
    "    \n",
    "    trainLoss = 0.0\n",
    "    startTime = time.time()\n",
    "    numOfWordsProcessed = 0\n",
    "    \n",
    "    for sent in train:\n",
    "        loss = computeLoss(sent)\n",
    "        trainLoss = trainLoss+loss.value()\n",
    "        \n",
    "        numOfWordsProcessed = numOfWordsProcessed + len(sent)\n",
    "        \n",
    "        # do backward pass to compute the gradients and update parameters\n",
    "        loss.backward()\n",
    "        trainer.update()\n",
    "    trainLosses.append(trainLoss)\n",
    "    print('Iteration ',i,' : ',' TrainingLoss : ',(trainLoss/numOfWordsProcessed),' Number of words processed : ',numOfWordsProcessed,' Time taken : ',\n",
    "         (time.time()-startTime))\n",
    "    \n",
    "    testLoss = 0.0\n",
    "    for sent in test:\n",
    "        loss = computeLoss(sent)\n",
    "        testLoss = testLoss+loss.value()\n",
    "    testLosses.append(testLoss)\n",
    "    print('Iteration ',i,' : ',' TestLoss : ',(testLoss/numOfWordsProcessed))"
   ]
  },
  {
   "cell_type": "code",
   "execution_count": 7,
   "metadata": {},
   "outputs": [
    {
     "data": {
      "image/png": "[encoded data removed]",
      "text/plain": [
       "<matplotlib.figure.Figure at 0x225b52ce400>"
      ]
     },
     "metadata": {},
     "output_type": "display_data"
    }
   ],
   "source": [
    "# normalize the training loss and test loss by dividing with initial element\n",
    "trainLoss0 = trainLosses[0]\n",
    "trainLosses = [(x/trainLoss0) for x in trainLosses]\n",
    "    \n",
    "testLoss0 = testLosses[0]\n",
    "testLosses = [(x/testLoss0) for x in testLosses]\n",
    "    \n",
    "train_loss, = plt.plot(trainLosses,label='train_loss')\n",
    "test_loss, = plt.plot(testLosses,label='test_loss')\n",
    "plt.legend(handles=[train_loss,test_loss])\n",
    "plt.show()"
   ]
  },
  {
   "cell_type": "code",
   "execution_count": 8,
   "metadata": {
    "collapsed": true
   },
   "outputs": [],
   "source": [
    "# lets write the input and output embeddings to file\n",
    "inputEmbeddings = 'inputEmbeddingsCBOW.txt'\n",
    "outputEmbeddings = 'outputEmbeddingsCBOW.txt'\n",
    "labels = 'labelsCBOW.txt'\n",
    "\n",
    "with open(inputEmbeddings,'w') as f:\n",
    "    embeddings = W_emb.as_array()\n",
    "    for i in range(nWords):\n",
    "        f.write('\\t'.join(map(str,embeddings[i])) + '\\n')\n",
    "\n",
    "with open(outputEmbeddings,'w') as f:\n",
    "    embeddings = W_sm.as_array()\n",
    "    for i in range(nWords):\n",
    "        f.write('\\t'.join(map(str,embeddings[i])) + '\\n')\n",
    "        \n",
    "with open(labels,'w') as f:\n",
    "    for i in range(nWords):\n",
    "        f.write(i2w[i] + '\\n')    \n",
    "        "
   ]
  }
 ],
 "metadata": {
  "kernelspec": {
   "display_name": "Python 3",
   "language": "python",
   "name": "python3"
  },
  "language_info": {
   "codemirror_mode": {
    "name": "ipython",
    "version": 3
   },
   "file_extension": ".py",
   "mimetype": "text/x-python",
   "name": "python",
   "nbconvert_exporter": "python",
   "pygments_lexer": "ipython3",
   "version": "3.6.1"
  }
 },
 "nbformat": 4,
 "nbformat_minor": 2
}
