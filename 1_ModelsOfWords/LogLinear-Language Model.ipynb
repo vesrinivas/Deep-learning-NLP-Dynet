{
 "cells": [
  {
   "cell_type": "code",
   "execution_count": 1,
   "metadata": {
    "collapsed": true
   },
   "outputs": [],
   "source": [
    "##---------------------------------------------------------------------\n",
    "## Summary : Implementing the logLinear language model\n",
    "## Author  : Srinivas Venkata Vemparala\n",
    "## Source  : https://github.com/neubig/nn4nlp-code\n",
    "##---------------------------------------------------------------------\n",
    "\n",
    "%matplotlib inline \n",
    "\n",
    "import numpy as np\n",
    "import pandas as pd\n",
    "import dynet as dy\n",
    "import time\n",
    "import math\n",
    "import matplotlib.pyplot as plt\n",
    "\n",
    "import random as random\n",
    "from collections import defaultdict"
   ]
  },
  {
   "cell_type": "code",
   "execution_count": 2,
   "metadata": {
    "collapsed": true
   },
   "outputs": [],
   "source": [
    "# lets convert the words to integers. we use defaultdict\n",
    "w2i = defaultdict(lambda : len(w2i))\n",
    "S = w2i['<s>']\n",
    "UNK = w2i['<unk>']\n",
    "\n",
    "# lets write a method to read the data from the file\n",
    "def readDataset(fileName):\n",
    "    retList = []\n",
    "    with open(fileName,'r+') as f:\n",
    "        for line in f:\n",
    "            words = [w2i[x] for x in line.lower().strip().split(' ')]\n",
    "            retList.append(words)\n",
    "    return retList"
   ]
  },
  {
   "cell_type": "code",
   "execution_count": 3,
   "metadata": {},
   "outputs": [
    {
     "name": "stdout",
     "output_type": "stream",
     "text": [
      "board\n",
      "Vocabulary Size :  10000\n"
     ]
    }
   ],
   "source": [
    "# lets read the training and testing data. We are using the pen-tree-bank.\n",
    "# In this the rare words are already replaced by <UNK>\n",
    "\n",
    "train = readDataset('../data/ptb/train.txt')\n",
    "test = readDataset('../data/ptb/valid.txt')\n",
    "\n",
    "# Now lets write a method to convert the indexes to words.\n",
    "i2w = {v: k for k, v in w2i.items()}\n",
    "# lets try an example\n",
    "print(i2w[33])\n",
    "\n",
    "# lets freeze the dictionary\n",
    "w2i = defaultdict(lambda:UNK, len(w2i))\n",
    "\n",
    "nWords = len(w2i)\n",
    "print('Vocabulary Size : ',nWords)"
   ]
  },
  {
   "cell_type": "code",
   "execution_count": 4,
   "metadata": {
    "collapsed": true
   },
   "outputs": [],
   "source": [
    "# lets define the N in Ngram\n",
    "N = 2\n",
    "\n",
    "# lets define the model and the trainer\n",
    "model = dy.Model()\n",
    "trainer = dy.SimpleSGDTrainer(model,learning_rate=0.1)\n",
    "\n",
    "# lets add the parameters to the model\n",
    "W_sm = [model.add_lookup_parameters((nWords, nWords)) for _ in range(N)] \n",
    "b_sm = model.add_parameters((nWords))\n"
   ]
  },
  {
   "cell_type": "code",
   "execution_count": 5,
   "metadata": {
    "collapsed": true
   },
   "outputs": [],
   "source": [
    "# Now lets write a method to compute the scores given the words\n",
    "def computeScores(words):\n",
    "    biases = dy.parameter(b_sm)\n",
    "    scoreVecs = [biases]\n",
    "    for i in range(N):\n",
    "        scoreVecs.append(dy.lookup(W_sm[i],words[i]))\n",
    "    return dy.esum(scoreVecs)\n",
    "\n",
    "# Now lets write a method to compute the loss given the sentence\n",
    "def computeLoss(sent):\n",
    "    # lets renew the computation graph\n",
    "    dy.renew_cg()\n",
    "    \n",
    "    # we will maintain a hist of last N words. The initial ones will be S\n",
    "    hist = [S]*N\n",
    "    \n",
    "    # intialize loss\n",
    "    all_losses = []\n",
    "    \n",
    "    # go through the entire sentence including end of sentence\n",
    "    for nextWord in sent+[S]:\n",
    "        \n",
    "        scores = computeScores(hist)\n",
    "        loss = dy.pickneglogsoftmax(scores,nextWord)\n",
    "        all_losses.append(loss)\n",
    "        \n",
    "        # modify the hist to have the next word and remove the first word\n",
    "        hist = hist[1:] + [nextWord]\n",
    "    return dy.esum(all_losses)"
   ]
  },
  {
   "cell_type": "code",
   "execution_count": 6,
   "metadata": {
    "collapsed": true
   },
   "outputs": [],
   "source": [
    "# lets declare the maximum number of words in sentence\n",
    "MAX_LENGTH_SENT = 100\n",
    "\n",
    "# Now lets write a method to randomly generate new sentences.\n",
    "def generateNewSentences():\n",
    "    # lets renew the computation graph\n",
    "    dy.renew_cg()\n",
    "    \n",
    "    # initialize history with N end of sentence tags\n",
    "    hist = [S]*N\n",
    "    \n",
    "    sentence = []\n",
    "    \n",
    "    while(True):\n",
    "        prob = dy.softmax(computeScores(hist)).npvalue()\n",
    "        nextWord = np.random.choice(nWords,p=(prob/prob.sum()))\n",
    "        \n",
    "        # check if end of sentence is generated or the max length of sentence is reached\n",
    "        if nextWord == S or len(sentence) >= MAX_LENGTH_SENT:\n",
    "            break\n",
    "        else:\n",
    "            sentence.append(nextWord)\n",
    "            # modify the hist to have the next word and remove the first word\n",
    "            hist = hist[1:] + [nextWord]\n",
    "            \n",
    "    return sentence         "
   ]
  },
  {
   "cell_type": "code",
   "execution_count": 7,
   "metadata": {},
   "outputs": [
    {
     "name": "stdout",
     "output_type": "stream",
     "text": [
      " Starting the training ...\n",
      "Iteration  0  :   TrainingLoss :  5514573.007346153  Number of words processed :  887521  Time taken :  106.04899644851685\n",
      "Iteration  0  :   TestLoss :  416918.7801117897\n",
      "Iteration  1  :   TrainingLoss :  5124374.604461193  Number of words processed :  887521  Time taken :  107.49932885169983\n",
      "Iteration  1  :   TestLoss :  405755.6763448715\n",
      "Iteration  2  :   TrainingLoss :  4953799.617873192  Number of words processed :  887521  Time taken :  131.03546905517578\n",
      "Iteration  2  :   TestLoss :  399502.2380800247\n",
      "Iteration  3  :   TrainingLoss :  4831010.875450611  Number of words processed :  887521  Time taken :  119.04393100738525\n",
      "Iteration  3  :   TestLoss :  395727.22803783417\n",
      "Iteration  4  :   TrainingLoss :  4733333.521792412  Number of words processed :  887521  Time taken :  110.03620195388794\n",
      "Iteration  4  :   TestLoss :  392044.30603933334\n",
      "Iteration  5  :   TrainingLoss :  4651344.638076305  Number of words processed :  887521  Time taken :  107.4360990524292\n",
      "Iteration  5  :   TestLoss :  389998.3057498932\n",
      "Iteration  6  :   TrainingLoss :  4580248.131867409  Number of words processed :  887521  Time taken :  108.3390805721283\n",
      "Iteration  6  :   TestLoss :  388092.052172184\n",
      "Iteration  7  :   TrainingLoss :  4517238.6006445885  Number of words processed :  887521  Time taken :  110.15715026855469\n",
      "Iteration  7  :   TestLoss :  386532.6298632622\n",
      "Iteration  8  :   TrainingLoss :  4459937.904851913  Number of words processed :  887521  Time taken :  191.3939802646637\n",
      "Iteration  8  :   TestLoss :  385378.76353263855\n",
      "Iteration  9  :   TrainingLoss :  4407532.473997593  Number of words processed :  887521  Time taken :  264.2518081665039\n",
      "Iteration  9  :   TestLoss :  384349.24731731415\n",
      "Iteration  10  :   TrainingLoss :  4359375.062651157  Number of words processed :  887521  Time taken :  242.073575258255\n",
      "Iteration  10  :   TestLoss :  383555.1727294922\n",
      "Iteration  11  :   TrainingLoss :  4314499.509186745  Number of words processed :  887521  Time taken :  237.31582951545715\n",
      "Iteration  11  :   TestLoss :  382435.79326200485\n",
      "Iteration  12  :   TrainingLoss :  4272115.553166389  Number of words processed :  887521  Time taken :  109.12299871444702\n",
      "Iteration  12  :   TestLoss :  382486.8791499138\n",
      "Iteration  13  :   TrainingLoss :  4232552.398718834  Number of words processed :  887521  Time taken :  114.36563062667847\n",
      "Iteration  13  :   TestLoss :  381618.20911598206\n",
      "Iteration  14  :   TrainingLoss :  4194804.003826618  Number of words processed :  887521  Time taken :  113.54656767845154\n",
      "Iteration  14  :   TestLoss :  381351.0117406845\n",
      "Iteration  15  :   TrainingLoss :  4159116.465180397  Number of words processed :  887521  Time taken :  116.34231305122375\n",
      "Iteration  15  :   TestLoss :  380655.99334192276\n",
      "Iteration  16  :   TrainingLoss :  4125177.5060391426  Number of words processed :  887521  Time taken :  113.40486335754395\n",
      "Iteration  16  :   TestLoss :  380713.4370961189\n",
      "Iteration  17  :   TrainingLoss :  4092586.8358244896  Number of words processed :  887521  Time taken :  111.63922047615051\n",
      "Iteration  17  :   TestLoss :  380062.4685935974\n",
      "Iteration  18  :   TrainingLoss :  4061353.791115761  Number of words processed :  887521  Time taken :  111.43611335754395\n",
      "Iteration  18  :   TestLoss :  380083.2402391434\n",
      "Iteration  19  :   TrainingLoss :  4031720.9475269318  Number of words processed :  887521  Time taken :  117.20042109489441\n",
      "Iteration  19  :   TestLoss :  379788.4426269531\n",
      "Iteration  20  :   TrainingLoss :  4002823.2568359375  Number of words processed :  887521  Time taken :  110.77985739707947\n",
      "Iteration  20  :   TestLoss :  379750.22891521454\n",
      "Iteration  21  :   TrainingLoss :  3974992.631940365  Number of words processed :  887521  Time taken :  107.63929986953735\n",
      "Iteration  21  :   TestLoss :  379536.6866455078\n",
      "Iteration  22  :   TrainingLoss :  3948503.6131796837  Number of words processed :  887521  Time taken :  110.81400227546692\n",
      "Iteration  22  :   TestLoss :  379322.91620635986\n",
      "Iteration  23  :   TrainingLoss :  3922799.2954559326  Number of words processed :  887521  Time taken :  113.12048077583313\n",
      "Iteration  23  :   TestLoss :  379436.0174026489\n",
      "Iteration  24  :   TrainingLoss :  3897817.9401373863  Number of words processed :  887521  Time taken :  107.42004609107971\n",
      "Iteration  24  :   TestLoss :  379470.7512640953\n"
     ]
    }
   ],
   "source": [
    "# lets start the training process\n",
    "trainLosses = []\n",
    "testLosses = []\n",
    "\n",
    "print(' Starting the training ...')\n",
    "\n",
    "for i in range(25):\n",
    "    # randomly shuffle the training examples\n",
    "    random.shuffle(train)\n",
    "    \n",
    "    # note start time and initialize the training loss and num of words processed\n",
    "    startTime = time.time()\n",
    "    trainLoss = 0.0\n",
    "    numOfWordsProcessed = 0\n",
    "    for sent in train:\n",
    "        # compute the loss\n",
    "        loss = computeLoss(sent)\n",
    "        trainLoss = trainLoss+loss.value()\n",
    "        numOfWordsProcessed = numOfWordsProcessed + len(sent)\n",
    "        \n",
    "        # compute the gradient and update the parameters\n",
    "        loss.backward()\n",
    "        trainer.update()\n",
    "    trainLosses.append(trainLoss)\n",
    "    print('Iteration ',i,' : ',' TrainingLoss : ',trainLoss,' Number of words processed : ',numOfWordsProcessed,' Time taken : ',\n",
    "         (time.time()-startTime))\n",
    "    \n",
    "    # evaluate on test data\n",
    "    testLoss = 0.0\n",
    "    for sent in test:\n",
    "        # compute loss\n",
    "        loss = computeLoss(sent)\n",
    "        testLoss = testLoss + loss.value()\n",
    "    testLosses.append(testLoss)\n",
    "    print('Iteration ',i,' : ',' TestLoss : ',testLoss)"
   ]
  },
  {
   "cell_type": "code",
   "execution_count": 8,
   "metadata": {},
   "outputs": [
    {
     "data": {
      "image/png": "[encoded data removed]",
      "text/plain": [
       "<matplotlib.figure.Figure at 0x1a8791d90b8>"
      ]
     },
     "metadata": {},
     "output_type": "display_data"
    }
   ],
   "source": [
    "# normalize the training loss and test loss by dividing with initial element\n",
    "trainLoss0 = trainLosses[0]\n",
    "trainLosses = [(x/trainLoss0) for x in trainLosses]\n",
    "    \n",
    "testLoss0 = testLosses[0]\n",
    "testLosses = [(x/testLoss0) for x in testLosses]\n",
    "    \n",
    "train_loss, = plt.plot(trainLosses,label='train_loss')\n",
    "test_loss, = plt.plot(testLosses,label='test_loss')\n",
    "plt.legend(handles=[train_loss,test_loss])\n",
    "plt.show()\n"
   ]
  },
  {
   "cell_type": "code",
   "execution_count": 10,
   "metadata": {},
   "outputs": [
    {
     "name": "stdout",
     "output_type": "stream",
     "text": [
      "his new company finds its own freddie mac this year time\n",
      "it is getting what it took happened to matters\n",
      "but then improved reeling insurers so much as n n n n n on the <unk> partners expansion to one subscribers deliberations is prepared to repair the pilots ever ford wins and the chemical $ n a share down $ n million before taxes watching interest rates will pay acquired more than a <unk> that much interest in <unk> <unk> baker the house also said the company that it is only n who were worked with w. <unk> and other\n",
      "in the latest period funds great britain mutual fund watson said traders <unk> command said it also seeks some of the group packaging is clearly more <unk> to worry that they did n't care how to the close all or money on the new company with a conflict n and securities fraud exchange shares bought about $ n in preferred and i wish\n",
      "his figure out staged a steady\n"
     ]
    }
   ],
   "source": [
    "# lets generate some random sentences\n",
    "for i in range(5):\n",
    "    sent = generateNewSentences()\n",
    "    words = [i2w[x] for x in sent]\n",
    "    print(' '.join(words))"
   ]
  }
 ],
 "metadata": {
  "kernelspec": {
   "display_name": "Python 3",
   "language": "python",
   "name": "python3"
  },
  "language_info": {
   "codemirror_mode": {
    "name": "ipython",
    "version": 3
   },
   "file_extension": ".py",
   "mimetype": "text/x-python",
   "name": "python",
   "nbconvert_exporter": "python",
   "pygments_lexer": "ipython3",
   "version": "3.6.1"
  }
 },
 "nbformat": 4,
 "nbformat_minor": 2
}
